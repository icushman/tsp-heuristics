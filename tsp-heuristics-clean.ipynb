{
 "cells": [
  {
   "cell_type": "markdown",
   "metadata": {},
   "source": [
    "## TSP heuristics\n",
    "\n",
    "### Problem Summary\n",
    "\n",
    "The goal is to propose a set of plausible decision-making heurstics for choosing a path in a TSP, and then to evaluate them in some useful way against actual human choices.\n",
    "\n",
    "This is a crack at that problem.\n",
    "\n",
    "Here, I frame heuristics as functions that give a probability distribution over all choices.\n",
    "Heuristic functions take\n",
    "\n",
    "1. a set of unvisited points (in the order they will be visited, in case a heuristic needs to 'see the future')\n",
    "2. an ordered list of visited points  \n",
    "3. optionally, any other information needed for calculation\n",
    "\n",
    "For all univisited points, the function yields a calculated transitional probability. All visited points are given a probability of 0.\n",
    "\n",
    "In this way, each heuristic gives a vector of transitional probabilities, which can be concatenated into a matrix.\n",
    "\n",
    "Given n heuristics, there is a separate \"weight vector\" of length n, which is multiplied by the heuristics matrix. The transitional probability for each point is then found by summing the weighted probability for that point given by each heuristic.\n",
    "\n",
    "JAGS is used to calculate the values of the weight vector, by regarding the actual nth point visited as being drawn from a categorical distribution with probabilites equal to the summed weighted heuristics.\n",
    "\n"
   ]
  },
  {
   "cell_type": "code",
   "execution_count": 4,
   "metadata": {},
   "outputs": [],
   "source": [
    "import pjbcma\n",
    "import matplotlib.pyplot as plt\n",
    "# import pandas as pd\n",
    "from math import sqrt"
   ]
  },
  {
   "cell_type": "markdown",
   "metadata": {},
   "source": [
    "Data import:"
   ]
  },
  {
   "cell_type": "code",
   "execution_count": 5,
   "metadata": {},
   "outputs": [],
   "source": [
    "# load problem 1, a 30 city TSP\n",
    "p1coords = []\n",
    "with open('tsp30.1.csv', 'r') as file:\n",
    "    for index, line in enumerate(file.readlines()):\n",
    "        p1coords.append(tuple((float(coord) for coord in line.split(\",\"))))\n",
    "\n",
    "\n",
    "\n",
    "# load all n = 82 paths through this TSP        \n",
    "p1paths=[]\n",
    "with open('tsp30tours.csv', 'r') as file:\n",
    "    for index, line in enumerate(file.readlines()):\n",
    "        p1paths.append([int(item) for index, item in enumerate(line.split(\",\")) if index%9==0])\n",
    "        \n",
    "p1paths = list(zip(*[p1paths[i] for i in range(len(p1paths))]))\n",
    "\n"
   ]
  },
  {
   "cell_type": "code",
   "execution_count": 6,
   "metadata": {},
   "outputs": [],
   "source": [
    "#turn a list of coords and a list of paths into a list of ordered coords.\n",
    "paths = []\n",
    "\n",
    "for subject in range(len(p1paths)):\n",
    "    order = {item:index for index, item in enumerate(p1paths[subject])}\n",
    "    pathlist = list(zip(p1coords, range(1,31)))\n",
    "    pathlist.sort(key=lambda x : order[x[1]])\n",
    "    pathlist = [i[0] for i in pathlist]\n",
    "    paths.append(pathlist)"
   ]
  },
  {
   "cell_type": "code",
   "execution_count": 13,
   "metadata": {},
   "outputs": [
    {
     "data": {
      "text/plain": [
       "[<matplotlib.lines.Line2D at 0x7f70c3aa1320>]"
      ]
     },
     "execution_count": 13,
     "metadata": {},
     "output_type": "execute_result"
    },
    {
     "data": {
      "image/png": "[encoded data removed]",
      "text/plain": [
       "<Figure size 432x288 with 1 Axes>"
      ]
     },
     "metadata": {
      "needs_background": "light"
     },
     "output_type": "display_data"
    }
   ],
   "source": [
    "\n",
    "\n",
    "#verify paths were loaded correctly\n",
    "\n",
    "p_num = 3\n",
    "x, y = paths[0][p_num]\n",
    "\n",
    "ax = plt.plot([point[0] for point in paths[p_num]],[point[1] for point in paths[p_num]])\n",
    "plt.plot([x], [y], marker='o', markersize=3, color=\"red\")"
   ]
  },
  {
   "cell_type": "code",
   "execution_count": 14,
   "metadata": {},
   "outputs": [],
   "source": [
    "#convert to jags-acceptable format \n",
    "def coords2data(coords):\n",
    "    return [item for pair in coords for item in pair]"
   ]
  },
  {
   "cell_type": "code",
   "execution_count": 15,
   "metadata": {},
   "outputs": [],
   "source": [
    "datapaths = [coords2data(path) for path in paths]"
   ]
  },
  {
   "cell_type": "code",
   "execution_count": 6,
   "metadata": {},
   "outputs": [],
   "source": [
    "#pjbcma.pyjags.modules.unload_module(\"TSPH\")"
   ]
  },
  {
   "cell_type": "code",
   "execution_count": 16,
   "metadata": {
    "scrolled": true
   },
   "outputs": [],
   "source": [
    "pjbcma.pyjags.modules.get_modules_dir()\n",
    "pjbcma.pyjags.modules.load_module(\"TSPH\", modules_dir='/usr/local/lib/x86_64-linux-gnu/JAGS/modules-4')"
   ]
  },
  {
   "cell_type": "code",
   "execution_count": 19,
   "metadata": {
    "scrolled": false
   },
   "outputs": [
    {
     "name": "stdout",
     "output_type": "stream",
     "text": [
      "adapting: iterations 2000 of 2000, elapsed 0:00:00, remaining 0:00:00\n",
      "adapting: iterations 2000 of 2000, elapsed 0:00:00, remaining 0:00:00\n",
      "adapting: iterations 2000 of 2000, elapsed 0:00:00, remaining 0:00:00\n",
      "Burn-in iterations (no samples recorded):\n",
      "sampling: iterations 2000 of 2000, elapsed 0:00:00, remaining 0:00:00\n",
      "Sample iterations:\n",
      "sampling: iterations 400 of 400, elapsed 0:00:00, remaining 0:00:00\n"
     ]
    },
    {
     "data": {
      "text/html": [
       "<div>\n",
       "<style scoped>\n",
       "    .dataframe tbody tr th:only-of-type {\n",
       "        vertical-align: middle;\n",
       "    }\n",
       "\n",
       "    .dataframe tbody tr th {\n",
       "        vertical-align: top;\n",
       "    }\n",
       "\n",
       "    .dataframe thead th {\n",
       "        text-align: right;\n",
       "    }\n",
       "</style>\n",
       "<table border=\"1\" class=\"dataframe\">\n",
       "  <thead>\n",
       "    <tr style=\"text-align: right;\">\n",
       "      <th></th>\n",
       "      <th>mean</th>\n",
       "      <th>std dev</th>\n",
       "      <th>median</th>\n",
       "      <th>mode</th>\n",
       "      <th>HPD</th>\n",
       "      <th>95CI</th>\n",
       "    </tr>\n",
       "  </thead>\n",
       "  <tbody>\n",
       "    <tr>\n",
       "      <th>hweight_0</th>\n",
       "      <td>0.959473</td>\n",
       "      <td>0.033681</td>\n",
       "      <td>0.965441</td>\n",
       "      <td>0.99886</td>\n",
       "      <td>[0.898, 1.0]</td>\n",
       "      <td>[0.881, 1.0]</td>\n",
       "    </tr>\n",
       "    <tr>\n",
       "      <th>hweight_1</th>\n",
       "      <td>0.040527</td>\n",
       "      <td>0.033681</td>\n",
       "      <td>0.034559</td>\n",
       "      <td>0.00114</td>\n",
       "      <td>[0.0, 0.102]</td>\n",
       "      <td>[0.0, 0.119]</td>\n",
       "    </tr>\n",
       "  </tbody>\n",
       "</table>\n",
       "</div>"
      ],
      "text/plain": [
       "               mean   std dev    median     mode           HPD          95CI\n",
       "hweight_0  0.959473  0.033681  0.965441  0.99886  [0.898, 1.0]  [0.881, 1.0]\n",
       "hweight_1  0.040527  0.033681  0.034559  0.00114  [0.0, 0.102]  [0.0, 0.119]"
      ]
     },
     "execution_count": 19,
     "metadata": {},
     "output_type": "execute_result"
    }
   ],
   "source": [
    "## PJBCMA DEMO:\n",
    "# Copy-paste this entire output into an ipython notebook cell\n",
    "# and run the cell to sample from and analyze a very basic\n",
    "# JAGS model.\n",
    "# For more advanced usage options, check out the examples\n",
    "# in the `Using pjbcmassistant for Bayesian modeling` notebook\n",
    "# at https://github.com/icushman/pjbcm-assistant\n",
    "\n",
    "spec_string = \"\"\"\n",
    "model: #model code or local .txt file\n",
    "var totalProbs[nSubjects, problemLength,problemLength];\n",
    "model{\n",
    "\n",
    "    for (j in 1:nSubjects) {\n",
    "        for (i in 1:(problemLength-1)) {\n",
    "            prox[j,i,1:problemLength] <- proximity(i, problemLength, myData[j,1:60])\n",
    "            heur2[j,i,1:problemLength] <- heuristic2(i, problemLength, myData[j,1:60])\n",
    "            \n",
    "            totalProbs[j,i,1:problemLength] <- hweight[1]*prox[j,i,1:problemLength] +\n",
    "                                               hweight[2]*heur2[j,i,1:problemLength]\n",
    "            \n",
    "            mychoices[j,i+1] ~ dcat(totalProbs[j,i,1:problemLength])\n",
    "           #mychoices[j,i] ~ dcat(c(1,2,3,4))\n",
    "        }\n",
    "        \n",
    "        }\n",
    "        \n",
    "\n",
    "        weightPrior <- c(1,1)\n",
    "        hweight[1:nheuristics] ~ ddirich(weightPrior[1:nheuristics])\n",
    "    \n",
    "        \n",
    "\n",
    "\n",
    "        \n",
    "        \n",
    "\n",
    "}\n",
    "\n",
    "settings:\n",
    "chains = 4 #number of chains to run\n",
    "samples = 100 #number of samples per chain\n",
    "thinning = 0 #number of samples to discard between recorded samples\n",
    "burnin = 500 #number of burn-in samples per chain\n",
    "adapt = auto #integer or 'auto'. pjbcma.SimpleSampler uses 'auto' to adapt until optimal.\n",
    "seed = random #optionally set to number to fix seed (Mersenne-Twister)\n",
    "\n",
    "data:\n",
    "\n",
    "myData = [1,2,3,4,5,6,7,8]# can be integer or list\n",
    "problemLength = len(myData)/2\n",
    "#mychoices = [1,2,3,4,5]\n",
    "nheuristics = 2\n",
    "nSubjects = 2\n",
    "#observationCount = 3 # variables can be assigned using Python expressions\n",
    "\n",
    "sample: #model variables to record, one per line\n",
    "#prox\n",
    "#heur2\n",
    "#totalProbs\n",
    "hweight\n",
    "\"\"\"\n",
    "\n",
    "sampler = pjbcma.SimpleSampler(spec_string)\n",
    "\n",
    "## optionally set data from outside the spec string\n",
    "\n",
    "nSubjects = 82\n",
    "#mycoords = s1p130#[(0,0),(0,1),(1,0),(1,1)]\n",
    "mychoices = [[i+1 for i in range(30)] for _ in range(nSubjects)]\n",
    "sampler.set_data(\"myData\", datapaths)#[paths[0:nSubjects])\n",
    "#sampler.set_data(\"myData\", paths[0]) #working data sample\n",
    "sampler.set_data(\"problemLength\", 30)\n",
    "sampler.set_data(\"mychoices\", mychoices)\n",
    "# sampler.set_data(\"observationCount\", 8)\n",
    "\n",
    "#take samples\n",
    "samples = sampler.sample()\n",
    "\n",
    "#see documentation for all visualization options\n",
    "\n",
    "#samples.vizchains(\"prox_2\")\n",
    "samples.summarize()"
   ]
  },
  {
   "cell_type": "markdown",
   "metadata": {},
   "source": [
    "# End of clean code"
   ]
  },
  {
   "cell_type": "code",
   "execution_count": 21,
   "metadata": {},
   "outputs": [],
   "source": [
    "summary = samples.summarize()"
   ]
  },
  {
   "cell_type": "code",
   "execution_count": 171,
   "metadata": {},
   "outputs": [
    {
     "name": "stdout",
     "output_type": "stream",
     "text": [
      "adapting: iterations 1000 of 1000, elapsed 0:00:00, remaining 0:00:00\n",
      "Burn-in iterations (no samples recorded):\n",
      "sampling: iterations 1000 of 1000, elapsed 0:00:00, remaining 0:00:00\n",
      "Sample iterations:\n",
      "sampling: iterations 20000 of 20000, elapsed 0:00:03, remaining 0:00:00\n"
     ]
    }
   ],
   "source": [
    "## PJBCMA DEMO:\n",
    "# Copy-paste this entire output into an ipython notebook cell\n",
    "# and run the cell to sample from and analyze a very basic\n",
    "# JAGS model.\n",
    "# For more advanced usage options, check out the examples\n",
    "# in the `Using pjbcmassistant for Bayesian modeling` notebook\n",
    "# at https://github.com/icushman/pjbcm-assistant\n",
    "\n",
    "spec_string = \"\"\"\n",
    "model: #model code or local .txt file\n",
    "var totalProbs[problemLength,problemLength];\n",
    "model{\n",
    "\n",
    "\n",
    "        for (i in 1:(problemLength-1)) {\n",
    "            prox[i,1:problemLength] <- proximity(i, problemLength, myData)\n",
    "            heur2[i,1:problemLength] <- heuristic2(i, problemLength, myData)\n",
    "            \n",
    "            totalProbs[i,1:problemLength] <- hweight[1]*prox[i,1:problemLength] +\n",
    "                                            hweight[2]*heur2[i,1:problemLength]\n",
    "            \n",
    "            mychoices[i+1] ~ dcat(totalProbs[i,1:problemLength])\n",
    "           #mychoices[j,i] ~ dcat(c(1,2,3,4))\n",
    "        }\n",
    "        \n",
    "\n",
    "        \n",
    "        for (i in 1:nheuristics) {\n",
    "            hweight[i] ~ dunif(0,1)\n",
    "        }\n",
    "        \n",
    "\n",
    "\n",
    "        \n",
    "        \n",
    "\n",
    "}\n",
    "\n",
    "settings:\n",
    "chains = 2 #number of chains to run\n",
    "samples = 10000 #number of samples per chain\n",
    "thinning = 0 #number of samples to discard between recorded samples\n",
    "burnin = 500 #number of burn-in samples per chain\n",
    "adapt = auto #integer or 'auto'. pjbcma.SimpleSampler uses 'auto' to adapt until optimal.\n",
    "seed = random #optionally set to number to fix seed (Mersenne-Twister)\n",
    "\n",
    "data:\n",
    "\n",
    "myData = [1,2,3,4,5,6,7,8]# can be integer or list\n",
    "problemLength = len(myData)/2\n",
    "#mychoices = [1,2,3,4,5]\n",
    "nheuristics = 2\n",
    "#nSubjects = 2\n",
    "#observationCount = 3 # variables can be assigned using Python expressions\n",
    "\n",
    "sample: #model variables to record, one per line\n",
    "#mu\n",
    "#prox\n",
    "#heur2\n",
    "#totalProbs\n",
    "hweight\n",
    "#mychoices\n",
    "\"\"\"\n",
    "\n",
    "sampler = pjbcma.SimpleSampler(spec_string)\n",
    "\n",
    "## optionally set data from outside the spec string\n",
    "\n",
    "nSubjects = 1\n",
    "mycoords = s1p130#[(0,0),(0,1),(1,0),(1,1)]\n",
    "mychoices = [index+1 for index, value in enumerate(mycoords)]\n",
    "# sampler.set_data(\"myData\", paths[0:nSubjects])\n",
    "sampler.set_data(\"myData\", datapaths[0]) #working data sample\n",
    "sampler.set_data(\"problemLength\", 30)\n",
    "sampler.set_data(\"mychoices\", mychoices)\n",
    "# sampler.set_data(\"observationCount\", 8)\n",
    "\n",
    "#take samples\n",
    "samples = sampler.sample()\n",
    "\n",
    "#see documentation for all visualization options\n",
    "\n",
    "#samples.vizchains(\"prox_2\")\n",
    "#samples.summarize()"
   ]
  },
  {
   "cell_type": "code",
   "execution_count": 172,
   "metadata": {},
   "outputs": [
    {
     "data": {
      "text/html": [
       "<div>\n",
       "<style scoped>\n",
       "    .dataframe tbody tr th:only-of-type {\n",
       "        vertical-align: middle;\n",
       "    }\n",
       "\n",
       "    .dataframe tbody tr th {\n",
       "        vertical-align: top;\n",
       "    }\n",
       "\n",
       "    .dataframe thead th {\n",
       "        text-align: right;\n",
       "    }\n",
       "</style>\n",
       "<table border=\"1\" class=\"dataframe\">\n",
       "  <thead>\n",
       "    <tr style=\"text-align: right;\">\n",
       "      <th></th>\n",
       "      <th>mean</th>\n",
       "      <th>std dev</th>\n",
       "      <th>median</th>\n",
       "      <th>mode</th>\n",
       "      <th>HPD</th>\n",
       "      <th>95CI</th>\n",
       "    </tr>\n",
       "  </thead>\n",
       "  <tbody>\n",
       "    <tr>\n",
       "      <th>hweight_0</th>\n",
       "      <td>0.666440</td>\n",
       "      <td>0.234395</td>\n",
       "      <td>0.706951</td>\n",
       "      <td>0.945291</td>\n",
       "      <td>[0.226, 1.0]</td>\n",
       "      <td>[0.161, 0.986]</td>\n",
       "    </tr>\n",
       "    <tr>\n",
       "      <th>hweight_1</th>\n",
       "      <td>0.071634</td>\n",
       "      <td>0.082059</td>\n",
       "      <td>0.043636</td>\n",
       "      <td>0.003790</td>\n",
       "      <td>[0.0, 0.237]</td>\n",
       "      <td>[0.001, 0.299]</td>\n",
       "    </tr>\n",
       "  </tbody>\n",
       "</table>\n",
       "</div>"
      ],
      "text/plain": [
       "               mean   std dev    median      mode           HPD  \\\n",
       "hweight_0  0.666440  0.234395  0.706951  0.945291  [0.226, 1.0]   \n",
       "hweight_1  0.071634  0.082059  0.043636  0.003790  [0.0, 0.237]   \n",
       "\n",
       "                     95CI  \n",
       "hweight_0  [0.161, 0.986]  \n",
       "hweight_1  [0.001, 0.299]  "
      ]
     },
     "execution_count": 172,
     "metadata": {},
     "output_type": "execute_result"
    }
   ],
   "source": [
    "samples.summarize()\n",
    "#samples.samples"
   ]
  },
  {
   "cell_type": "code",
   "execution_count": null,
   "metadata": {},
   "outputs": [],
   "source": [
    "paths[0:1]"
   ]
  },
  {
   "cell_type": "code",
   "execution_count": null,
   "metadata": {},
   "outputs": [],
   "source": [
    "samples.samples"
   ]
  },
  {
   "cell_type": "code",
   "execution_count": 12,
   "metadata": {},
   "outputs": [
    {
     "data": {
      "text/plain": [
       "60"
      ]
     },
     "execution_count": 12,
     "metadata": {},
     "output_type": "execute_result"
    }
   ],
   "source": [
    " len(paths[0:nSubjects][0])"
   ]
  },
  {
   "cell_type": "code",
   "execution_count": null,
   "metadata": {},
   "outputs": [],
   "source": [
    "mychoices"
   ]
  },
  {
   "cell_type": "code",
   "execution_count": null,
   "metadata": {},
   "outputs": [],
   "source": [
    "x.loc['hweight_1']['mean']/x.loc['hweight_0']['mean']"
   ]
  },
  {
   "cell_type": "code",
   "execution_count": null,
   "metadata": {
    "scrolled": true
   },
   "outputs": [],
   "source": [
    "x.loc['heur2_0_1']"
   ]
  },
  {
   "cell_type": "code",
   "execution_count": null,
   "metadata": {
    "scrolled": false
   },
   "outputs": [],
   "source": [
    "x.loc['prox_0_20']"
   ]
  },
  {
   "cell_type": "code",
   "execution_count": null,
   "metadata": {},
   "outputs": [],
   "source": [
    "x"
   ]
  },
  {
   "cell_type": "code",
   "execution_count": null,
   "metadata": {},
   "outputs": [],
   "source": [
    "s1p130"
   ]
  },
  {
   "cell_type": "code",
   "execution_count": null,
   "metadata": {},
   "outputs": [],
   "source": [
    "samples.vizchains('hweight_0','hweight_1')"
   ]
  },
  {
   "cell_type": "code",
   "execution_count": null,
   "metadata": {},
   "outputs": [],
   "source": [
    "mychoices"
   ]
  },
  {
   "cell_type": "code",
   "execution_count": null,
   "metadata": {
    "scrolled": true
   },
   "outputs": [],
   "source": [
    "samples.samples"
   ]
  },
  {
   "cell_type": "code",
   "execution_count": null,
   "metadata": {},
   "outputs": [],
   "source": [
    "## PJBCMA DEMO:\n",
    "# Copy-paste this entire output into an ipython notebook cell\n",
    "# and run the cell to sample from and analyze a very basic\n",
    "# JAGS model.\n",
    "# For more advanced usage options, check out the examples\n",
    "# in the `Using pjbcmassistant for Bayesian modeling` notebook\n",
    "# at https://github.com/icushman/pjbcm-assistant\n",
    "\n",
    "spec_string = \"\"\"\n",
    "model: #model code or local .txt file\n",
    "model{\n",
    "\n",
    "    for (subject in 1:nsubjects) {\n",
    "        for (i in 1:(problemLength-1)) {\n",
    "            prox[subject,i,1:problemLength] <- proximity(i, problemLength, data[subject])\n",
    "            heur2[subject,i,1:problemLength] <- heuristic2(i, problemLength, data[subject])\n",
    "            \n",
    "            totalProbs[subject,i,1:problemLength] <-hweight[1]*prox[i,1:problemLength] +\n",
    "                                            hweight[2]*heur2[i,1:problemLength]\n",
    "            \n",
    "            mychoices[subject,i+1] ~ dcat(totalProbs[i,1:problemLength])\n",
    "           #mychoices[i] ~ dcat(c(1,2,3,4))\n",
    "        }\n",
    "        \n",
    "        }\n",
    "        \n",
    "        for (i in 1:nheuristics) {\n",
    "            hweight[i] ~ dunif(0,1)\n",
    "        }\n",
    "        \n",
    "        \n",
    "        \n",
    "\n",
    "}\n",
    "\n",
    "settings:\n",
    "chains = 2 #number of chains to run\n",
    "samples = 10000 #number of samples per chain\n",
    "thinning = 0 #number of samples to discard between recorded samples\n",
    "burnin = 500 #number of burn-in samples per chain\n",
    "adapt = auto #integer or 'auto'. pjbcma.SimpleSampler uses 'auto' to adapt until optimal.\n",
    "seed = random #optionally set to number to fix seed (Mersenne-Twister)\n",
    "\n",
    "data:\n",
    "\n",
    "data = [1,2,3,4,5,6,7,8]# can be integer or list\n",
    "problemLength = 2\n",
    "mychoices = [1,2,3,4,5]\n",
    "nheuristics = 2\n",
    "nsubjects = 0\n",
    "#observationCount = 3 # variables can be assigned using Python expressions\n",
    "\n",
    "sample: #model variables to record, one per line\n",
    "#mu\n",
    "#prox\n",
    "#heur2\n",
    "#totalProbs\n",
    "hweight\n",
    "\"\"\"\n",
    "\n",
    "sampler = pjbcma.SimpleSampler(spec_string)\n",
    "\n",
    "## optionally set data from outside the spec string\n",
    "\n",
    "nsubjects = 2\n",
    "mycoords = s1p130#[(0,0),(0,1),(1,0),(1,1)]\n",
    "mychoices = [index+1 for index, value in enumerate(mycoords)]\n",
    "sampler.set_data(\"data\", paths[0:nsubjects])\n",
    "sampler.set_data(\"nsubjects\", nsubjects)\n",
    "sampler.set_data(\"problemLength\", len(mycoords))\n",
    "sampler.set_data(\"mychoices\", mychoices)\n",
    "# sampler.set_data(\"observationCount\", 8)\n",
    "\n",
    "#take samples\n",
    "samples = sampler.sample()\n",
    "\n",
    "#see documentation for all visualization options\n",
    "\n",
    "#samples.vizchains(\"prox_2\")\n",
    "samples.summarize()"
   ]
  },
  {
   "cell_type": "code",
   "execution_count": 144,
   "metadata": {
    "scrolled": false
   },
   "outputs": [
    {
     "ename": "JagsError",
     "evalue": "Error in node mydata[1]\nNode inconsistent with parents\n",
     "output_type": "error",
     "traceback": [
      "\u001b[0;31m------------------------------------------------------------\u001b[0m",
      "\u001b[0;31mJagsError\u001b[0m                  Traceback (most recent call last)",
      "\u001b[0;32m<ipython-input-144-e71b287e0aca>\u001b[0m in \u001b[0;36m<module>\u001b[0;34m\u001b[0m\n\u001b[1;32m     47\u001b[0m \u001b[0;31m# sampler.set_data('ndata', 1000)\u001b[0m\u001b[0;34m\u001b[0m\u001b[0;34m\u001b[0m\u001b[0m\n\u001b[1;32m     48\u001b[0m \u001b[0;31m#take samples\u001b[0m\u001b[0;34m\u001b[0m\u001b[0;34m\u001b[0m\u001b[0m\n\u001b[0;32m---> 49\u001b[0;31m \u001b[0msamples\u001b[0m \u001b[0;34m=\u001b[0m \u001b[0msampler\u001b[0m\u001b[0;34m.\u001b[0m\u001b[0msample\u001b[0m\u001b[0;34m(\u001b[0m\u001b[0;34m)\u001b[0m\u001b[0;34m\u001b[0m\u001b[0m\n\u001b[0m\u001b[1;32m     50\u001b[0m \u001b[0;34m\u001b[0m\u001b[0m\n\u001b[1;32m     51\u001b[0m \u001b[0;31m#see documentation for all visualization options\u001b[0m\u001b[0;34m\u001b[0m\u001b[0;34m\u001b[0m\u001b[0m\n",
      "\u001b[0;32m~/anaconda3/envs/pyjagsBCM/lib/python3.7/site-packages/pjbcma/SimpleSampler.py\u001b[0m in \u001b[0;36msample\u001b[0;34m(self)\u001b[0m\n\u001b[1;32m     10\u001b[0m \u001b[0;34m\u001b[0m\u001b[0m\n\u001b[1;32m     11\u001b[0m         \u001b[0;32mdef\u001b[0m \u001b[0msample\u001b[0m\u001b[0;34m(\u001b[0m\u001b[0mself\u001b[0m\u001b[0;34m)\u001b[0m\u001b[0;34m:\u001b[0m\u001b[0;34m\u001b[0m\u001b[0m\n\u001b[0;32m---> 12\u001b[0;31m                 \u001b[0mself\u001b[0m\u001b[0;34m.\u001b[0m\u001b[0mpyjags_model\u001b[0m \u001b[0;34m=\u001b[0m \u001b[0mpyjags\u001b[0m\u001b[0;34m.\u001b[0m\u001b[0mModel\u001b[0m\u001b[0;34m(\u001b[0m\u001b[0;34m**\u001b[0m\u001b[0mself\u001b[0m\u001b[0;34m.\u001b[0m\u001b[0mmodel_spec\u001b[0m\u001b[0;34m.\u001b[0m\u001b[0mget_model_args\u001b[0m\u001b[0;34m(\u001b[0m\u001b[0;34m)\u001b[0m\u001b[0;34m)\u001b[0m\u001b[0;34m\u001b[0m\u001b[0m\n\u001b[0m\u001b[1;32m     13\u001b[0m \u001b[0;34m\u001b[0m\u001b[0m\n\u001b[1;32m     14\u001b[0m                 \u001b[0;32mif\u001b[0m \u001b[0mself\u001b[0m\u001b[0;34m.\u001b[0m\u001b[0mmodel_spec\u001b[0m\u001b[0;34m.\u001b[0m\u001b[0madapt\u001b[0m \u001b[0;34m==\u001b[0m \u001b[0;34m'auto'\u001b[0m\u001b[0;34m:\u001b[0m\u001b[0;34m\u001b[0m\u001b[0m\n",
      "\u001b[0;32m~/anaconda3/envs/pyjagsBCM/lib/python3.7/site-packages/pyjags/model.py\u001b[0m in \u001b[0;36m__init__\u001b[0;34m(self, code, data, init, chains, adapt, file, encoding, generate_data, progress_bar, refresh_seconds, threads, chains_per_thread)\u001b[0m\n\u001b[1;32m    280\u001b[0m         \u001b[0mself\u001b[0m\u001b[0;34m.\u001b[0m\u001b[0m_init_compile\u001b[0m\u001b[0;34m(\u001b[0m\u001b[0mdata\u001b[0m\u001b[0;34m,\u001b[0m \u001b[0mgenerate_data\u001b[0m\u001b[0;34m)\u001b[0m\u001b[0;34m\u001b[0m\u001b[0m\n\u001b[1;32m    281\u001b[0m         \u001b[0mself\u001b[0m\u001b[0;34m.\u001b[0m\u001b[0m_init_parameters\u001b[0m\u001b[0;34m(\u001b[0m\u001b[0minit\u001b[0m\u001b[0;34m)\u001b[0m\u001b[0;34m\u001b[0m\u001b[0m\n\u001b[0;32m--> 282\u001b[0;31m         \u001b[0mself\u001b[0m\u001b[0;34m.\u001b[0m\u001b[0mconsole\u001b[0m\u001b[0;34m.\u001b[0m\u001b[0minitialize\u001b[0m\u001b[0;34m(\u001b[0m\u001b[0;34m)\u001b[0m\u001b[0;34m\u001b[0m\u001b[0m\n\u001b[0m\u001b[1;32m    283\u001b[0m         \u001b[0;32mif\u001b[0m \u001b[0madapt\u001b[0m\u001b[0;34m:\u001b[0m\u001b[0;34m\u001b[0m\u001b[0m\n\u001b[1;32m    284\u001b[0m             \u001b[0mself\u001b[0m\u001b[0;34m.\u001b[0m\u001b[0madapt\u001b[0m\u001b[0;34m(\u001b[0m\u001b[0madapt\u001b[0m\u001b[0;34m)\u001b[0m\u001b[0;34m\u001b[0m\u001b[0m\n",
      "\u001b[0;31mJagsError\u001b[0m: Error in node mydata[1]\nNode inconsistent with parents\n"
     ]
    }
   ],
   "source": [
    "## PJBCMA DEMO:\n",
    "# Copy-paste this entire output into an ipython notebook cell\n",
    "# and run the cell to sample from and analyze a very basic\n",
    "# JAGS model.\n",
    "# For more advanced usage options, check out the examples\n",
    "# in the `Using pjbcmassistant for Bayesian modeling` notebook\n",
    "# at https://github.com/icushman/pjbcm-assistant\n",
    "\n",
    "spec_string = \"\"\"\n",
    "model: #model code or local .txt file\n",
    "model{\n",
    "\n",
    "        for (i in 1:ndata) {\n",
    "            mydata[i] ~ dcat(pi)\n",
    "        }\n",
    "        \n",
    "        pi <- c(a,b,c,d)\n",
    "        a <- 0\n",
    "        b ~ dunif(0,1)\n",
    "        c ~ dunif(0,1)\n",
    "        d ~ dunif(0,1)\n",
    "\n",
    "}\n",
    "\n",
    "settings:\n",
    "chains = 4 #number of chains to run\n",
    "samples = 10000 #number of samples per chain\n",
    "thinning = 0 #number of samples to discard between recorded samples\n",
    "burnin = 500 #number of burn-in samples per chain\n",
    "adapt = auto #integer or 'auto'. pjbcma.SimpleSampler uses 'auto' to adapt until optimal.\n",
    "seed = random #optionally set to number to fix seed (Mersenne-Twister)\n",
    "\n",
    "data:\n",
    "mydata = [1,2,3,4]\n",
    "ndata = len(mydata)\n",
    "#observationCount = 3 # variables can be assigned using Python expressions\n",
    "\n",
    "sample: #model variables to record, one per line\n",
    "pi\n",
    "\n",
    "\"\"\"\n",
    "\n",
    "sampler = pjbcma.SimpleSampler(spec_string)\n",
    "\n",
    "## optionally set data from outside the spec string\n",
    "# sampler.set_data('mydata', [1 for i in range(1000)])\n",
    "# sampler.set_data('ndata', 1000)\n",
    "#take samples\n",
    "samples = sampler.sample()\n",
    "\n",
    "#see documentation for all visualization options\n",
    "\n",
    "#samples.vizchains(\"prox_2\")\n",
    "samples.summarize()"
   ]
  },
  {
   "cell_type": "code",
   "execution_count": 61,
   "metadata": {},
   "outputs": [],
   "source": [
    "s1p130.sort(key=lambda x : order[x[1]])"
   ]
  },
  {
   "cell_type": "code",
   "execution_count": 35,
   "metadata": {},
   "outputs": [],
   "source": [
    "s1p130.sort(key=(lambda x : x[1]))\n",
    "\n"
   ]
  },
  {
   "cell_type": "code",
   "execution_count": 62,
   "metadata": {
    "scrolled": true
   },
   "outputs": [
    {
     "data": {
      "text/plain": [
       "[((0.7894, 0.927), 15),\n",
       " ((0.6567, 0.7573), 19),\n",
       " ((0.6224, 0.8328), 18),\n",
       " ((0.4954, 0.9741), 13),\n",
       " ((0.5427, 0.7604), 25),\n",
       " ((0.5136, 0.6952), 30),\n",
       " ((0.4397, 0.67), 10),\n",
       " ((0.3378, 0.7087), 22),\n",
       " ((0.3048, 0.7735), 28),\n",
       " ((0.2129, 0.6968), 16),\n",
       " ((0.1088, 0.7669), 2),\n",
       " ((0.1533, 0.618), 11),\n",
       " ((0.0238, 0.6136), 1),\n",
       " ((0.1125, 0.4996), 12),\n",
       " ((0.0861, 0.3345), 4),\n",
       " ((0.237, 0.0169), 8),\n",
       " ((0.2884, 0.0195), 24),\n",
       " ((0.3274, 0.3365), 14),\n",
       " ((0.371, 0.5046), 29),\n",
       " ((0.463, 0.5362), 23),\n",
       " ((0.4893, 0.4814), 21),\n",
       " ((0.549, 0.3713), 3),\n",
       " ((0.5985, 0.2163), 5),\n",
       " ((0.6454, 0.2927), 9),\n",
       " ((0.8166, 0.0282), 7),\n",
       " ((0.9082, 0.2222), 17),\n",
       " ((0.9331, 0.3756), 26),\n",
       " ((0.9258, 0.4472), 20),\n",
       " ((0.8208, 0.5711), 6),\n",
       " ((0.8535, 0.9406), 27)]"
      ]
     },
     "execution_count": 62,
     "metadata": {},
     "output_type": "execute_result"
    }
   ],
   "source": [
    "s1p130 "
   ]
  },
  {
   "cell_type": "code",
   "execution_count": 63,
   "metadata": {},
   "outputs": [],
   "source": [
    "s1p130 = [i[0] for i in s1p130]"
   ]
  },
  {
   "cell_type": "code",
   "execution_count": 64,
   "metadata": {
    "scrolled": false
   },
   "outputs": [
    {
     "data": {
      "text/plain": [
       "[(0.7894, 0.927),\n",
       " (0.6567, 0.7573),\n",
       " (0.6224, 0.8328),\n",
       " (0.4954, 0.9741),\n",
       " (0.5427, 0.7604),\n",
       " (0.5136, 0.6952),\n",
       " (0.4397, 0.67),\n",
       " (0.3378, 0.7087),\n",
       " (0.3048, 0.7735),\n",
       " (0.2129, 0.6968),\n",
       " (0.1088, 0.7669),\n",
       " (0.1533, 0.618),\n",
       " (0.0238, 0.6136),\n",
       " (0.1125, 0.4996),\n",
       " (0.0861, 0.3345),\n",
       " (0.237, 0.0169),\n",
       " (0.2884, 0.0195),\n",
       " (0.3274, 0.3365),\n",
       " (0.371, 0.5046),\n",
       " (0.463, 0.5362),\n",
       " (0.4893, 0.4814),\n",
       " (0.549, 0.3713),\n",
       " (0.5985, 0.2163),\n",
       " (0.6454, 0.2927),\n",
       " (0.8166, 0.0282),\n",
       " (0.9082, 0.2222),\n",
       " (0.9331, 0.3756),\n",
       " (0.9258, 0.4472),\n",
       " (0.8208, 0.5711),\n",
       " (0.8535, 0.9406)]"
      ]
     },
     "execution_count": 64,
     "metadata": {},
     "output_type": "execute_result"
    }
   ],
   "source": [
    "s1p130"
   ]
  },
  {
   "cell_type": "code",
   "execution_count": 85,
   "metadata": {},
   "outputs": [],
   "source": [
    "def distance(p1,p2):\n",
    "    return sqrt((p1[0]-p2[0])**2+(p1[1]-p2[1])**2)"
   ]
  },
  {
   "cell_type": "code",
   "execution_count": 87,
   "metadata": {},
   "outputs": [
    {
     "data": {
      "text/plain": [
       "1.1988762780007733"
      ]
     },
     "execution_count": 87,
     "metadata": {},
     "output_type": "execute_result"
    }
   ],
   "source": [
    "1.4143 - distance(s1p130[0],s1p130[1])"
   ]
  },
  {
   "cell_type": "code",
   "execution_count": 76,
   "metadata": {
    "scrolled": true
   },
   "outputs": [],
   "source": [
    "c1 = coords2data(s1p130)"
   ]
  }
 ],
 "metadata": {
  "kernelspec": {
   "display_name": "pyjagsBCM",
   "language": "python",
   "name": "pyjagsbcm"
  },
  "language_info": {
   "codemirror_mode": {
    "name": "ipython",
    "version": 3
   },
   "file_extension": ".py",
   "mimetype": "text/x-python",
   "name": "python",
   "nbconvert_exporter": "python",
   "pygments_lexer": "ipython3",
   "version": "3.7.0"
  }
 },
 "nbformat": 4,
 "nbformat_minor": 2
}
